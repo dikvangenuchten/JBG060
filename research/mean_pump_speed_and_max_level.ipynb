{
 "cells": [
  {
   "cell_type": "code",
   "execution_count": 8,
   "metadata": {},
   "outputs": [],
   "source": [
    "import pandas as pd\n",
    "from scipy import stats\n",
    "import numpy as np"
   ]
  },
  {
   "cell_type": "code",
   "execution_count": 9,
   "metadata": {},
   "outputs": [],
   "source": [
    "pump_data_locations = ['..\\data\\Engelerschans.csv', \n",
    "                       '..\\data\\helftheuvel.csv', \n",
    "                       '..\\data\\Maaspoort.csv', \n",
    "                       '..\\data\\oude_engelenseweg.csv', \n",
    "                       '..\\data\\Rompert.csv']"
   ]
  },
  {
   "cell_type": "code",
   "execution_count": 10,
   "metadata": {},
   "outputs": [],
   "source": [
    "\"\"\"\n",
    "Gets the mean of the most fastest times a pump has pumped while also removing outliers\n",
    ":param full_df: DataFrame, the pump dataframe with 'level_diff'\n",
    ":param nr_of_extremes: int, the amount of fastest hours we need to find the mean from\n",
    "\"\"\"\n",
    "def get_mean_fastest_pump_speed(full_df, nr_of_extremes=100):\n",
    "    df = full_df.sort_values('level_diff').iloc[:nr_of_extremes]\n",
    "\n",
    "    df['zscore'] = abs((df['level_diff'] - df['level_diff'].mean())/df['level_diff'].std(ddof=0))\n",
    "\n",
    "    df = df[df['zscore'] < 3]\n",
    "    return abs(df['level_diff'].mean())\n",
    "\n",
    "\n",
    "\"\"\"\n",
    "Gets the mean of the highest or lowest level of the pump while also removing outliers\n",
    ":param full_df: DataFrame, the pump dataframe with the total level in the second column\n",
    ":param nr_of_extremes: int, the amount of extremes to take into account for the max level calculation\n",
    "\"\"\"\n",
    "def get_mean_extremes_pump_level(full_df, nr_of_extremes=100, get_min=False):\n",
    "    df = full_df.sort_values(by=full_df.columns[1], ascending=get_min).dropna().iloc[:nr_of_extremes]\n",
    "    \n",
    "    df['zscore'] = abs((df[df.columns[1]] - df[df.columns[1]].mean())/df[df.columns[1]].std(ddof=0))\n",
    "\n",
    "    df = df[df['zscore'] < 3]\n",
    "    return abs(df[df.columns[1]].mean())"
   ]
  },
  {
   "cell_type": "code",
   "execution_count": 13,
   "metadata": {},
   "outputs": [
    {
     "name": "stdout",
     "output_type": "stream",
     "text": [
      "For ..\\data\\Engelerschans.csv pump speed: 69.13 mean max level: 358.97 mean min level: 20.01\n",
      "For ..\\data\\helftheuvel.csv pump speed: 55.42 mean max level: 382.59 mean min level: 144.64\n",
      "For ..\\data\\Maaspoort.csv pump speed: 78.19 mean max level: 484.79 mean min level: 66.7\n",
      "For ..\\data\\oude_engelenseweg.csv pump speed: 60.07 mean max level: 384.57 mean min level: 158.74\n",
      "For ..\\data\\Rompert.csv pump speed: 73.41 mean max level: 439.73 mean min level: 69.65\n"
     ]
    }
   ],
   "source": [
    "for location in pump_data_locations:\n",
    "    full_df = pd.read_csv(location)\n",
    "    pump_mean = get_mean_fastest_pump_speed(full_df)\n",
    "    max_level_mean = get_mean_extremes_pump_level(full_df, 50)\n",
    "    min_level_mean = get_mean_extremes_pump_level(full_df, 50, True)\n",
    "    print(f\"For {location} pump speed: {round(pump_mean,2)} mean max level: {round(max_level_mean,2)} mean min level: {round(min_level_mean,2)}\")"
   ]
  }
 ],
 "metadata": {
  "kernelspec": {
   "display_name": "Python 3",
   "language": "python",
   "name": "python3"
  },
  "language_info": {
   "codemirror_mode": {
    "name": "ipython",
    "version": 3
   },
   "file_extension": ".py",
   "mimetype": "text/x-python",
   "name": "python",
   "nbconvert_exporter": "python",
   "pygments_lexer": "ipython3",
   "version": "3.8.3"
  }
 },
 "nbformat": 4,
 "nbformat_minor": 4
}
