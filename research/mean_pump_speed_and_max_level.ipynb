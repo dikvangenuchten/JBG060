{
 "cells": [
  {
   "cell_type": "code",
   "execution_count": 11,
   "metadata": {},
   "outputs": [],
   "source": [
    "import pandas as pd\n",
    "from scipy import stats\n",
    "import numpy as np"
   ]
  },
  {
   "cell_type": "code",
   "execution_count": 12,
   "metadata": {},
   "outputs": [],
   "source": [
    "pump_data_locations = ['..\\data\\Engelerschans.csv', \n",
    "                       '..\\data\\helftheuvel.csv', \n",
    "                       '..\\data\\Maaspoort.csv', \n",
    "                       '..\\data\\oude_engelenseweg.csv', \n",
    "                       '..\\data\\Rompert.csv']"
   ]
  },
  {
   "cell_type": "code",
   "execution_count": 47,
   "metadata": {},
   "outputs": [],
   "source": [
    "\"\"\"\n",
    "Gets the mean of the most fastest times a pump has pumped while also removing outliers\n",
    ":param full_df: DataFrame, the pump dataframe with 'level_diff'\n",
    ":param nr_of_extremes: int, the amount of fastest hours we need to find the mean from\n",
    "\"\"\"\n",
    "def get_mean_fastest_pump_speed(full_df, nr_of_extremes=100):\n",
    "    df = full_df.sort_values('level_diff').iloc[:nr_of_extremes]\n",
    "\n",
    "    df['zscore'] = abs((df['level_diff'] - df['level_diff'].mean())/df['level_diff'].std(ddof=0))\n",
    "\n",
    "    df = df[df['zscore'] < 3]\n",
    "    return abs(df['level_diff'].mean())\n",
    "\n",
    "\n",
    "\"\"\"\n",
    "Gets the mean of the highest level of the pump while also removing outliers\n",
    ":param full_df: DataFrame, the pump dataframe with the total level in the second column\n",
    ":param nr_of_extremes: int, the amount of extremes to take into account for the max level calculation\n",
    "\"\"\"\n",
    "def get_mean_max_pump_level(full_df, nr_of_extremes=100):\n",
    "    df = full_df.sort_values(by=full_df.columns[1], ascending=False).dropna().iloc[:100]\n",
    "\n",
    "    df['zscore'] = abs((df[df.columns[1]] - df[df.columns[1]].mean())/df[df.columns[1]].std(ddof=0))\n",
    "\n",
    "    df = df[df['zscore'] < 3]\n",
    "    return abs(df[df.columns[1]].mean())"
   ]
  },
  {
   "cell_type": "code",
   "execution_count": 48,
   "metadata": {},
   "outputs": [
    {
     "name": "stdout",
     "output_type": "stream",
     "text": [
      "For ..\\data\\Engelerschans.csv we have mean pump speed 69.1330449916618 per hour and mean max level 343.1862791402493\n",
      "For ..\\data\\helftheuvel.csv we have mean pump speed 55.42466796616097 per hour and mean max level 350.49848606679103\n",
      "For ..\\data\\Maaspoort.csv we have mean pump speed 78.19384385872104 per hour and mean max level 431.2285730125431\n",
      "For ..\\data\\oude_engelenseweg.csv we have mean pump speed 60.07232021813718 per hour and mean max level 360.81809482591956\n",
      "For ..\\data\\Rompert.csv we have mean pump speed 73.40589834870443 per hour and mean max level 415.91666873445945\n"
     ]
    }
   ],
   "source": [
    "for location in pump_data_locations:\n",
    "    full_df = pd.read_csv(location)\n",
    "    pump_mean = get_mean_fastest_pump_speed(full_df)\n",
    "    max_level_mean = get_mean_max_pump_level(full_df)\n",
    "    print(f\"For {location} we have mean pump speed {pump_mean} per hour and mean max level {max_level_mean}\")"
   ]
  }
 ],
 "metadata": {
  "kernelspec": {
   "display_name": "Python 3",
   "language": "python",
   "name": "python3"
  },
  "language_info": {
   "codemirror_mode": {
    "name": "ipython",
    "version": 3
   },
   "file_extension": ".py",
   "mimetype": "text/x-python",
   "name": "python",
   "nbconvert_exporter": "python",
   "pygments_lexer": "ipython3",
   "version": "3.7.6"
  }
 },
 "nbformat": 4,
 "nbformat_minor": 4
}
