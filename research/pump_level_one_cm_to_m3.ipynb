{
 "cells": [
  {
   "cell_type": "code",
   "execution_count": 5,
   "metadata": {},
   "outputs": [],
   "source": [
    "import pandas as pd\n",
    "import numpy as np"
   ]
  },
  {
   "cell_type": "code",
   "execution_count": 6,
   "metadata": {
    "scrolled": true
   },
   "outputs": [],
   "source": [
    "def calculate_single_cm_to_m3(pump):\n",
    "    inflow_df = pd.read_csv(f\"../processed/pump_in_flow_appr_Helftheuvel.csv\")\n",
    "    \n",
    "    # Calculate the difference in pump water volume, so calculating how much water causes the difference     \n",
    "    inflow_df['in_minus_out'] = abs(inflow_df['flow_in'] - inflow_df['hstWaarde'])\n",
    "    inflow_df['level'] = inflow_df.iloc[:,1].round()\n",
    "    inflow_df['prev_level'] = inflow_df['level'].shift(1)\n",
    "\n",
    "\n",
    "    # Creating a n x m dataframe for the data     \n",
    "    indexes = np.array(inflow_df['level'].min() + np.arange(inflow_df['level'].max() - inflow_df['level'].min()))\n",
    "    columns = np.array(inflow_df['level'].min() + np.arange(inflow_df['level'].max() - inflow_df['level'].min()))\n",
    "    df = pd.DataFrame(0, index=indexes, columns=columns)\n",
    "\n",
    "    # We fill this dataframe with the mean of all corresponding data belonging to every single cell     \n",
    "    mean_df = inflow_df.groupby(['level','prev_level']).mean().reset_index()\n",
    "    mean_df['rounded_level_diff'] = abs(mean_df['level'] - mean_df['prev_level'])\n",
    "    mean_df.loc[mean_df['rounded_level_diff'] == 0, 'rounded_level_diff'] = 1\n",
    "    mean_df = mean_df.loc[mean_df['level'] != mean_df['prev_level']]\n",
    "    mean_df['mean_in_minus_out_per_cm'] = mean_df['in_minus_out'] / mean_df['rounded_level_diff']\n",
    "    mean_df = mean_df.groupby(['prev_level']).mean().reset_index()\n",
    "    resulting_df = pd.DataFrame(columns=['cm', 'm3'])\n",
    "    resulting_df['cm'] = mean_df['prev_level']\n",
    "    resulting_df['m3'] = mean_df['mean_in_minus_out_per_cm'].fillna(0).cumsum()\n",
    "    print(\"Pump done!\")\n",
    "    return resulting_df\n"
   ]
  },
  {
   "cell_type": "code",
   "execution_count": 9,
   "metadata": {},
   "outputs": [
    {
     "name": "stderr",
     "output_type": "stream",
     "text": [
      "<ipython-input-6-b42bd1ec8d44>:16: RuntimeWarning: invalid value encountered in double_scalars\n",
      "  new_value = df.loc[df.index == index, str(column)].iloc[0] / column_index_diff\n",
      "<ipython-input-6-b42bd1ec8d44>:16: RuntimeWarning: invalid value encountered in true_divide\n",
      "  new_value = df.loc[df.index == index, str(column)].iloc[0] / column_index_diff\n"
     ]
    },
    {
     "name": "stdout",
     "output_type": "stream",
     "text": [
      "Pump done!\n",
      "Pump done!\n",
      "Pump done!\n"
     ]
    }
   ],
   "source": [
    "pumps = ['Engelerschans', 'Maaspoort', 'Rompert', 'Oude Engelenseweg', 'Helftheuvel']\n",
    "for pump in pumps:\n",
    "    pump_df = calculate_single_cm_to_m3(pump)\n",
    "    pump_df.to_csv(f\"../processed/{pump}_single_cm_m3.csv\")"
   ]
  },
  {
   "cell_type": "code",
   "execution_count": null,
   "metadata": {},
   "outputs": [],
   "source": []
  }
 ],
 "metadata": {
  "kernelspec": {
   "display_name": "Python 3",
   "language": "python",
   "name": "python3"
  },
  "language_info": {
   "codemirror_mode": {
    "name": "ipython",
    "version": 3
   },
   "file_extension": ".py",
   "mimetype": "text/x-python",
   "name": "python",
   "nbconvert_exporter": "python",
   "pygments_lexer": "ipython3",
   "version": "3.7.6"
  }
 },
 "nbformat": 4,
 "nbformat_minor": 4
}
