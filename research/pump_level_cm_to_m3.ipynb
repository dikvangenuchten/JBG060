{
 "cells": [
  {
   "cell_type": "code",
   "execution_count": 1,
   "metadata": {},
   "outputs": [],
   "source": [
    "import pandas as pd\n",
    "import numpy as np"
   ]
  },
  {
   "cell_type": "code",
   "execution_count": 2,
   "metadata": {},
   "outputs": [],
   "source": [
    "def calculate_cm_to_m3(pump):\n",
    "    \"\"\"\n",
    "    Gets the difference of inflow and outflow and see how much cm the pump rises or falls in level\n",
    "    Then creates a table for each 'normal' water level (meaning with a low zscore) were one can read \n",
    "    of as when level goes from {index} cm to {column} cm pump difference in m^3 \n",
    "    \"\"\"\n",
    "    inflow_df = pd.read_csv(f\"../processed/pump_in_flow_appr_{pump}.csv\")\n",
    "    # Calculate the difference in pump water volume     \n",
    "    inflow_df['in_minus_out'] = abs(inflow_df['flow_in'] - inflow_df['hstWaarde'])\n",
    "    inflow_df['level'] = inflow_df.iloc[:,1].round()\n",
    "    inflow_df['prev_level'] = inflow_df['level'].shift(1)\n",
    "    \n",
    "    # Calculating the 'normal' pump level range     \n",
    "    min_max_df = inflow_df.copy()\n",
    "    min_max_df['zscore'] = abs((min_max_df['level'] - min_max_df['level'].mean())/min_max_df['level'].std(ddof=0))\n",
    "    min_max_df = min_max_df[min_max_df['zscore'] < 1.5]\n",
    "    max_level = min_max_df['level'].max()\n",
    "    min_level = min_max_df['level'].min()\n",
    "    small_df = inflow_df.loc[(inflow_df['level'] < max_level) & (inflow_df['level'] > min_level)]\n",
    "    \n",
    "    # And creating a n x m dataframe for the data     \n",
    "    indexes = np.array(small_df['level'].min() + np.arange(small_df['level'].max() - small_df['level'].min()))\n",
    "    columns = np.array(small_df['level'].min() + np.arange(small_df['level'].max() - small_df['level'].min()))\n",
    "    df = pd.DataFrame(0, index=indexes, columns=columns)\n",
    "    \n",
    "    # We fill this dataframe with the mean of all corresponding data belonging to every single cell     \n",
    "    for i in range(len(indexes)):\n",
    "        index = indexes[i]\n",
    "        print(index)\n",
    "        for j in range(len(indexes - i)):\n",
    "            column = columns[j]\n",
    "            if (index == column):\n",
    "                continue\n",
    "            mean_table = small_df.loc[((small_df['prev_level'] == index) & \n",
    "                                      (small_df['level'] == column)) | ((small_df['level'] == index) & \n",
    "                                      (small_df['prev_level'] == column)), 'in_minus_out'].dropna().mean()\n",
    "            df.loc[index, column] = mean_table\n",
    "    print(\"Pump done\")\n",
    "    return df"
   ]
  },
  {
   "cell_type": "code",
   "execution_count": null,
   "metadata": {},
   "outputs": [
    {
     "name": "stdout",
     "output_type": "stream",
     "text": [
      "72.0\n",
      "73.0\n",
      "74.0\n",
      "75.0\n",
      "76.0\n",
      "77.0\n",
      "78.0\n",
      "79.0\n",
      "80.0\n",
      "81.0\n",
      "82.0\n",
      "83.0\n",
      "84.0\n",
      "85.0\n",
      "86.0\n",
      "87.0\n",
      "88.0\n",
      "89.0\n",
      "90.0\n",
      "91.0\n",
      "92.0\n",
      "93.0\n",
      "94.0\n",
      "95.0\n",
      "96.0\n",
      "97.0\n",
      "98.0\n",
      "99.0\n",
      "100.0\n",
      "101.0\n",
      "102.0\n",
      "103.0\n",
      "104.0\n",
      "105.0\n",
      "106.0\n",
      "107.0\n",
      "108.0\n",
      "109.0\n",
      "110.0\n",
      "111.0\n",
      "112.0\n",
      "113.0\n",
      "114.0\n",
      "115.0\n",
      "116.0\n",
      "117.0\n",
      "118.0\n",
      "119.0\n",
      "120.0\n",
      "121.0\n",
      "122.0\n",
      "123.0\n",
      "124.0\n",
      "125.0\n",
      "126.0\n",
      "127.0\n",
      "128.0\n",
      "129.0\n",
      "130.0\n",
      "131.0\n",
      "132.0\n",
      "133.0\n",
      "134.0\n",
      "135.0\n",
      "136.0\n",
      "137.0\n",
      "138.0\n",
      "139.0\n",
      "140.0\n",
      "141.0\n",
      "142.0\n",
      "143.0\n",
      "144.0\n",
      "145.0\n",
      "146.0\n",
      "147.0\n",
      "148.0\n",
      "149.0\n",
      "150.0\n",
      "151.0\n",
      "152.0\n",
      "153.0\n",
      "154.0\n",
      "155.0\n",
      "156.0\n",
      "157.0\n",
      "158.0\n",
      "159.0\n",
      "160.0\n",
      "161.0\n",
      "162.0\n",
      "163.0\n",
      "164.0\n",
      "165.0\n",
      "166.0\n",
      "167.0\n",
      "168.0\n",
      "169.0\n",
      "170.0\n",
      "171.0\n",
      "172.0\n",
      "173.0\n",
      "174.0\n",
      "175.0\n",
      "176.0\n",
      "177.0\n",
      "178.0\n",
      "179.0\n",
      "180.0\n",
      "181.0\n",
      "182.0\n",
      "183.0\n",
      "184.0\n",
      "185.0\n",
      "186.0\n",
      "187.0\n",
      "188.0\n",
      "189.0\n",
      "190.0\n",
      "191.0\n",
      "192.0\n",
      "193.0\n",
      "194.0\n",
      "195.0\n",
      "196.0\n",
      "Pump done\n",
      "73.0\n",
      "74.0\n",
      "75.0\n",
      "76.0\n",
      "77.0\n",
      "78.0\n",
      "79.0\n",
      "80.0\n",
      "81.0\n",
      "82.0\n",
      "83.0\n",
      "84.0\n",
      "85.0\n",
      "86.0\n",
      "87.0\n",
      "88.0\n",
      "89.0\n",
      "90.0\n",
      "91.0\n",
      "92.0\n",
      "93.0\n",
      "94.0\n",
      "95.0\n",
      "96.0\n",
      "97.0\n",
      "98.0\n",
      "99.0\n",
      "100.0\n",
      "101.0\n",
      "102.0\n",
      "103.0\n",
      "104.0\n",
      "105.0\n",
      "106.0\n",
      "107.0\n",
      "108.0\n",
      "109.0\n",
      "110.0\n",
      "111.0\n",
      "112.0\n",
      "113.0\n",
      "114.0\n",
      "115.0\n",
      "116.0\n",
      "117.0\n",
      "118.0\n",
      "119.0\n",
      "120.0\n",
      "121.0\n",
      "122.0\n",
      "123.0\n",
      "124.0\n",
      "125.0\n",
      "126.0\n"
     ]
    }
   ],
   "source": [
    "pumps = ['Engelerschans', 'Maaspoort', 'Rompert', 'Oude Engelenseweg', 'Helftheuvel']\n",
    "for pump in pumps:\n",
    "    pump_df = calculate_cm_to_m3(pump)\n",
    "    pump_df.to_csv(f\"../processed/{pump}_cm_m3.csv\")"
   ]
  },
  {
   "cell_type": "code",
   "execution_count": 156,
   "metadata": {},
   "outputs": [],
   "source": [
    "import pandas as pd\n",
    "import numpy as np"
   ]
  },
  {
   "cell_type": "code",
   "execution_count": 167,
   "metadata": {
    "scrolled": true
   },
   "outputs": [],
   "source": [
    "def to_one_cm_diff_only(df):\n",
    "    \"\"\"\n",
    "    To convert the big dataframe generated above to be only per cm by cycling\n",
    "    over every cell and dividing it by the amount of cm difference to get a 'mean' over the cm's difference \n",
    "    keeping out data when there is more than 30 cm difference\n",
    "    \"\"\"\n",
    "    for index in df.columns:\n",
    "        index = float(index)\n",
    "        for column in df.columns:\n",
    "            column = float(column)\n",
    "            column_index_diff = abs(column - index);\n",
    "            if (column == index + 1 or column == index - 1 \n",
    "                or df.loc[df.index == index, str(column)].iloc[0] == np.nan\n",
    "                or column_index_diff > 30):\n",
    "                continue; \n",
    "            new_value = df.loc[df.index == index, str(column)].iloc[0] / column_index_diff\n",
    "            df.loc[df.index == index, str(column)] = new_value\n",
    "    print(\"Pump done!\")\n",
    "    return df.mean()"
   ]
  },
  {
   "cell_type": "code",
   "execution_count": 169,
   "metadata": {},
   "outputs": [
    {
     "name": "stderr",
     "output_type": "stream",
     "text": [
      "<ipython-input-167-97404681d988>:11: RuntimeWarning: invalid value encountered in double_scalars\n",
      "  new_value = df.loc[df.index == index, str(column)].iloc[0] / column_index_diff\n"
     ]
    },
    {
     "name": "stdout",
     "output_type": "stream",
     "text": [
      "Pump done!\n",
      "Pump done!\n",
      "Pump done!\n",
      "Pump done!\n",
      "Pump done!\n"
     ]
    }
   ],
   "source": [
    "pumps = ['Engelerschans', 'Maaspoort', 'Rompert', 'Oude Engelenseweg', 'Helftheuvel']\n",
    "for pump in pumps:\n",
    "    df = pd.read_csv(f\"../processed/{pump}_cm_m3.csv\", index_col=0)\n",
    "    pump_df = to_one_cm_diff_only(df)\n",
    "    pump_df.to_csv(f\"../processed/{pump}_1cm_m3.csv\")"
   ]
  },
  {
   "cell_type": "code",
   "execution_count": 170,
   "metadata": {},
   "outputs": [],
   "source": [
    "df = pd.read_csv(\"../processed/Engelerschans_1cm_m3.csv\")"
   ]
  },
  {
   "cell_type": "code",
   "execution_count": 182,
   "metadata": {},
   "outputs": [
    {
     "data": {
      "text/plain": [
       "<matplotlib.axes._subplots.AxesSubplot at 0x20c917f7790>"
      ]
     },
     "execution_count": 182,
     "metadata": {},
     "output_type": "execute_result"
    },
    {
     "data": {
      "image/png": "[encoded data removed]",
      "text/plain": [
       "<Figure size 432x288 with 1 Axes>"
      ]
     },
     "metadata": {
      "needs_background": "light"
     },
     "output_type": "display_data"
    }
   ],
   "source": [
    "df.rolling(window=30).mean().plot(None, [1])"
   ]
  },
  {
   "cell_type": "code",
   "execution_count": 185,
   "metadata": {},
   "outputs": [
    {
     "data": {
      "text/plain": [
       "<matplotlib.axes._subplots.AxesSubplot at 0x20c95fb6490>"
      ]
     },
     "execution_count": 185,
     "metadata": {},
     "output_type": "execute_result"
    },
    {
     "data": {
      "image/png": "[encoded data removed]",
      "text/plain": [
       "<Figure size 432x288 with 1 Axes>"
      ]
     },
     "metadata": {
      "needs_background": "light"
     },
     "output_type": "display_data"
    }
   ],
   "source": [
    "df.cumsum().plot(None, [1])"
   ]
  },
  {
   "cell_type": "code",
   "execution_count": null,
   "metadata": {},
   "outputs": [],
   "source": []
  }
 ],
 "metadata": {
  "kernelspec": {
   "display_name": "Python 3",
   "language": "python",
   "name": "python3"
  },
  "language_info": {
   "codemirror_mode": {
    "name": "ipython",
    "version": 3
   },
   "file_extension": ".py",
   "mimetype": "text/x-python",
   "name": "python",
   "nbconvert_exporter": "python",
   "pygments_lexer": "ipython3",
   "version": "3.8.3"
  }
 },
 "nbformat": 4,
 "nbformat_minor": 4
}
